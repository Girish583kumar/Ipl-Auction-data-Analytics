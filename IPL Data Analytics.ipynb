{
 "cells": [
  {
   "cell_type": "code",
   "execution_count": 72,
   "id": "ec60fb2e",
   "metadata": {},
   "outputs": [],
   "source": [
    "#import the dependencies\n",
    "import pandas as pd\n",
    "import numpy as np\n",
    "import seaborn as sns\n",
    "import matplotlib.pyplot as plt\n",
    "\n"
   ]
  },
  {
   "cell_type": "code",
   "execution_count": 73,
   "id": "758b3099",
   "metadata": {},
   "outputs": [
    {
     "data": {
      "text/html": [
       "<div>\n",
       "<style scoped>\n",
       "    .dataframe tbody tr th:only-of-type {\n",
       "        vertical-align: middle;\n",
       "    }\n",
       "\n",
       "    .dataframe tbody tr th {\n",
       "        vertical-align: top;\n",
       "    }\n",
       "\n",
       "    .dataframe thead th {\n",
       "        text-align: right;\n",
       "    }\n",
       "</style>\n",
       "<table border=\"1\" class=\"dataframe\">\n",
       "  <thead>\n",
       "    <tr style=\"text-align: right;\">\n",
       "      <th></th>\n",
       "      <th>Player Name</th>\n",
       "      <th>Base Price</th>\n",
       "      <th>Type</th>\n",
       "      <th>Cost in Rs. (CR)</th>\n",
       "      <th>Cost in $ (K)</th>\n",
       "      <th>2022 Squad</th>\n",
       "      <th>2023 Squad</th>\n",
       "    </tr>\n",
       "  </thead>\n",
       "  <tbody>\n",
       "    <tr>\n",
       "      <th>0</th>\n",
       "      <td>Shivam Mavi</td>\n",
       "      <td>4000000</td>\n",
       "      <td>BOWLER</td>\n",
       "      <td>6.0</td>\n",
       "      <td>720.0</td>\n",
       "      <td>KKR</td>\n",
       "      <td>GT</td>\n",
       "    </tr>\n",
       "    <tr>\n",
       "      <th>1</th>\n",
       "      <td>Joshua Little</td>\n",
       "      <td>5000000</td>\n",
       "      <td>BOWLER</td>\n",
       "      <td>4.4</td>\n",
       "      <td>528.0</td>\n",
       "      <td>NaN</td>\n",
       "      <td>GT</td>\n",
       "    </tr>\n",
       "    <tr>\n",
       "      <th>2</th>\n",
       "      <td>Kane Williamson</td>\n",
       "      <td>20000000</td>\n",
       "      <td>BATSMAN</td>\n",
       "      <td>2.0</td>\n",
       "      <td>240.0</td>\n",
       "      <td>SRH</td>\n",
       "      <td>GT</td>\n",
       "    </tr>\n",
       "    <tr>\n",
       "      <th>3</th>\n",
       "      <td>K.S. Bharat</td>\n",
       "      <td>2000000</td>\n",
       "      <td>WICKETKEEPER</td>\n",
       "      <td>1.2</td>\n",
       "      <td>144.0</td>\n",
       "      <td>DC</td>\n",
       "      <td>GT</td>\n",
       "    </tr>\n",
       "    <tr>\n",
       "      <th>4</th>\n",
       "      <td>Mohit Sharma</td>\n",
       "      <td>5000000</td>\n",
       "      <td>BOWLER</td>\n",
       "      <td>0.5</td>\n",
       "      <td>60.0</td>\n",
       "      <td>NaN</td>\n",
       "      <td>GT</td>\n",
       "    </tr>\n",
       "    <tr>\n",
       "      <th>...</th>\n",
       "      <td>...</td>\n",
       "      <td>...</td>\n",
       "      <td>...</td>\n",
       "      <td>...</td>\n",
       "      <td>...</td>\n",
       "      <td>...</td>\n",
       "      <td>...</td>\n",
       "    </tr>\n",
       "    <tr>\n",
       "      <th>563</th>\n",
       "      <td>Dhruv Patel</td>\n",
       "      <td>2000000</td>\n",
       "      <td>ALL-ROUNDER</td>\n",
       "      <td>NaN</td>\n",
       "      <td>NaN</td>\n",
       "      <td>NaN</td>\n",
       "      <td>Unsold</td>\n",
       "    </tr>\n",
       "    <tr>\n",
       "      <th>564</th>\n",
       "      <td>Jack Prestwidge</td>\n",
       "      <td>2000000</td>\n",
       "      <td>ALL-ROUNDER</td>\n",
       "      <td>NaN</td>\n",
       "      <td>NaN</td>\n",
       "      <td>NaN</td>\n",
       "      <td>Unsold</td>\n",
       "    </tr>\n",
       "    <tr>\n",
       "      <th>565</th>\n",
       "      <td>Aditya Sarvate</td>\n",
       "      <td>2000000</td>\n",
       "      <td>ALL-ROUNDER</td>\n",
       "      <td>NaN</td>\n",
       "      <td>NaN</td>\n",
       "      <td>NaN</td>\n",
       "      <td>Unsold</td>\n",
       "    </tr>\n",
       "    <tr>\n",
       "      <th>566</th>\n",
       "      <td>Sagar Solanki</td>\n",
       "      <td>2000000</td>\n",
       "      <td>ALL-ROUNDER</td>\n",
       "      <td>NaN</td>\n",
       "      <td>NaN</td>\n",
       "      <td>NaN</td>\n",
       "      <td>Unsold</td>\n",
       "    </tr>\n",
       "    <tr>\n",
       "      <th>567</th>\n",
       "      <td>Prenelan Subrayen</td>\n",
       "      <td>2000000</td>\n",
       "      <td>ALL-ROUNDER</td>\n",
       "      <td>NaN</td>\n",
       "      <td>NaN</td>\n",
       "      <td>NaN</td>\n",
       "      <td>Unsold</td>\n",
       "    </tr>\n",
       "  </tbody>\n",
       "</table>\n",
       "<p>568 rows × 7 columns</p>\n",
       "</div>"
      ],
      "text/plain": [
       "           Player Name Base Price          Type  Cost in Rs. (CR)  \\\n",
       "0          Shivam Mavi    4000000        BOWLER               6.0   \n",
       "1        Joshua Little    5000000        BOWLER               4.4   \n",
       "2      Kane Williamson   20000000       BATSMAN               2.0   \n",
       "3          K.S. Bharat    2000000  WICKETKEEPER               1.2   \n",
       "4         Mohit Sharma    5000000        BOWLER               0.5   \n",
       "..                 ...        ...           ...               ...   \n",
       "563        Dhruv Patel    2000000   ALL-ROUNDER               NaN   \n",
       "564    Jack Prestwidge    2000000   ALL-ROUNDER               NaN   \n",
       "565     Aditya Sarvate    2000000   ALL-ROUNDER               NaN   \n",
       "566      Sagar Solanki    2000000   ALL-ROUNDER               NaN   \n",
       "567  Prenelan Subrayen    2000000   ALL-ROUNDER               NaN   \n",
       "\n",
       "     Cost in $ (K) 2022 Squad 2023 Squad  \n",
       "0            720.0        KKR         GT  \n",
       "1            528.0        NaN         GT  \n",
       "2            240.0        SRH         GT  \n",
       "3            144.0         DC         GT  \n",
       "4             60.0        NaN         GT  \n",
       "..             ...        ...        ...  \n",
       "563            NaN        NaN     Unsold  \n",
       "564            NaN        NaN     Unsold  \n",
       "565            NaN        NaN     Unsold  \n",
       "566            NaN        NaN     Unsold  \n",
       "567            NaN        NaN     Unsold  \n",
       "\n",
       "[568 rows x 7 columns]"
      ]
     },
     "execution_count": 73,
     "metadata": {},
     "output_type": "execute_result"
    }
   ],
   "source": [
    "#import the dataset\n",
    "ipl=pd.read_csv('C:/Users/Giris/Downloads/ipl_2023_dataset.csv')\n",
    "ipl"
   ]
  },
  {
   "cell_type": "code",
   "execution_count": 74,
   "id": "1e9381cc",
   "metadata": {},
   "outputs": [
    {
     "data": {
      "text/html": [
       "<div>\n",
       "<style scoped>\n",
       "    .dataframe tbody tr th:only-of-type {\n",
       "        vertical-align: middle;\n",
       "    }\n",
       "\n",
       "    .dataframe tbody tr th {\n",
       "        vertical-align: top;\n",
       "    }\n",
       "\n",
       "    .dataframe thead th {\n",
       "        text-align: right;\n",
       "    }\n",
       "</style>\n",
       "<table border=\"1\" class=\"dataframe\">\n",
       "  <thead>\n",
       "    <tr style=\"text-align: right;\">\n",
       "      <th></th>\n",
       "      <th>Player Name</th>\n",
       "      <th>Base Price</th>\n",
       "      <th>Type</th>\n",
       "      <th>Cost in Rs. (CR)</th>\n",
       "      <th>Cost in $ (K)</th>\n",
       "      <th>2022 Squad</th>\n",
       "      <th>2023 Squad</th>\n",
       "    </tr>\n",
       "  </thead>\n",
       "  <tbody>\n",
       "    <tr>\n",
       "      <th>0</th>\n",
       "      <td>Shivam Mavi</td>\n",
       "      <td>4000000</td>\n",
       "      <td>BOWLER</td>\n",
       "      <td>6.0</td>\n",
       "      <td>720.0</td>\n",
       "      <td>KKR</td>\n",
       "      <td>GT</td>\n",
       "    </tr>\n",
       "    <tr>\n",
       "      <th>1</th>\n",
       "      <td>Joshua Little</td>\n",
       "      <td>5000000</td>\n",
       "      <td>BOWLER</td>\n",
       "      <td>4.4</td>\n",
       "      <td>528.0</td>\n",
       "      <td>NaN</td>\n",
       "      <td>GT</td>\n",
       "    </tr>\n",
       "    <tr>\n",
       "      <th>2</th>\n",
       "      <td>Kane Williamson</td>\n",
       "      <td>20000000</td>\n",
       "      <td>BATSMAN</td>\n",
       "      <td>2.0</td>\n",
       "      <td>240.0</td>\n",
       "      <td>SRH</td>\n",
       "      <td>GT</td>\n",
       "    </tr>\n",
       "    <tr>\n",
       "      <th>3</th>\n",
       "      <td>K.S. Bharat</td>\n",
       "      <td>2000000</td>\n",
       "      <td>WICKETKEEPER</td>\n",
       "      <td>1.2</td>\n",
       "      <td>144.0</td>\n",
       "      <td>DC</td>\n",
       "      <td>GT</td>\n",
       "    </tr>\n",
       "    <tr>\n",
       "      <th>4</th>\n",
       "      <td>Mohit Sharma</td>\n",
       "      <td>5000000</td>\n",
       "      <td>BOWLER</td>\n",
       "      <td>0.5</td>\n",
       "      <td>60.0</td>\n",
       "      <td>NaN</td>\n",
       "      <td>GT</td>\n",
       "    </tr>\n",
       "  </tbody>\n",
       "</table>\n",
       "</div>"
      ],
      "text/plain": [
       "       Player Name Base Price          Type  Cost in Rs. (CR)  Cost in $ (K)  \\\n",
       "0      Shivam Mavi    4000000        BOWLER               6.0          720.0   \n",
       "1    Joshua Little    5000000        BOWLER               4.4          528.0   \n",
       "2  Kane Williamson   20000000       BATSMAN               2.0          240.0   \n",
       "3      K.S. Bharat    2000000  WICKETKEEPER               1.2          144.0   \n",
       "4     Mohit Sharma    5000000        BOWLER               0.5           60.0   \n",
       "\n",
       "  2022 Squad 2023 Squad  \n",
       "0        KKR         GT  \n",
       "1        NaN         GT  \n",
       "2        SRH         GT  \n",
       "3         DC         GT  \n",
       "4        NaN         GT  "
      ]
     },
     "execution_count": 74,
     "metadata": {},
     "output_type": "execute_result"
    }
   ],
   "source": [
    "#print the first 5 items of the data\n",
    "ipl.head()\n"
   ]
  },
  {
   "cell_type": "code",
   "execution_count": 75,
   "id": "498a3e08",
   "metadata": {},
   "outputs": [
    {
     "data": {
      "text/html": [
       "<div>\n",
       "<style scoped>\n",
       "    .dataframe tbody tr th:only-of-type {\n",
       "        vertical-align: middle;\n",
       "    }\n",
       "\n",
       "    .dataframe tbody tr th {\n",
       "        vertical-align: top;\n",
       "    }\n",
       "\n",
       "    .dataframe thead th {\n",
       "        text-align: right;\n",
       "    }\n",
       "</style>\n",
       "<table border=\"1\" class=\"dataframe\">\n",
       "  <thead>\n",
       "    <tr style=\"text-align: right;\">\n",
       "      <th></th>\n",
       "      <th>Player Name</th>\n",
       "      <th>Base Price</th>\n",
       "      <th>Type</th>\n",
       "      <th>Cost in Rs. (CR)</th>\n",
       "      <th>Cost in $ (K)</th>\n",
       "      <th>2022 Squad</th>\n",
       "      <th>2023 Squad</th>\n",
       "    </tr>\n",
       "  </thead>\n",
       "  <tbody>\n",
       "    <tr>\n",
       "      <th>563</th>\n",
       "      <td>Dhruv Patel</td>\n",
       "      <td>2000000</td>\n",
       "      <td>ALL-ROUNDER</td>\n",
       "      <td>NaN</td>\n",
       "      <td>NaN</td>\n",
       "      <td>NaN</td>\n",
       "      <td>Unsold</td>\n",
       "    </tr>\n",
       "    <tr>\n",
       "      <th>564</th>\n",
       "      <td>Jack Prestwidge</td>\n",
       "      <td>2000000</td>\n",
       "      <td>ALL-ROUNDER</td>\n",
       "      <td>NaN</td>\n",
       "      <td>NaN</td>\n",
       "      <td>NaN</td>\n",
       "      <td>Unsold</td>\n",
       "    </tr>\n",
       "    <tr>\n",
       "      <th>565</th>\n",
       "      <td>Aditya Sarvate</td>\n",
       "      <td>2000000</td>\n",
       "      <td>ALL-ROUNDER</td>\n",
       "      <td>NaN</td>\n",
       "      <td>NaN</td>\n",
       "      <td>NaN</td>\n",
       "      <td>Unsold</td>\n",
       "    </tr>\n",
       "    <tr>\n",
       "      <th>566</th>\n",
       "      <td>Sagar Solanki</td>\n",
       "      <td>2000000</td>\n",
       "      <td>ALL-ROUNDER</td>\n",
       "      <td>NaN</td>\n",
       "      <td>NaN</td>\n",
       "      <td>NaN</td>\n",
       "      <td>Unsold</td>\n",
       "    </tr>\n",
       "    <tr>\n",
       "      <th>567</th>\n",
       "      <td>Prenelan Subrayen</td>\n",
       "      <td>2000000</td>\n",
       "      <td>ALL-ROUNDER</td>\n",
       "      <td>NaN</td>\n",
       "      <td>NaN</td>\n",
       "      <td>NaN</td>\n",
       "      <td>Unsold</td>\n",
       "    </tr>\n",
       "  </tbody>\n",
       "</table>\n",
       "</div>"
      ],
      "text/plain": [
       "           Player Name Base Price         Type  Cost in Rs. (CR)  \\\n",
       "563        Dhruv Patel    2000000  ALL-ROUNDER               NaN   \n",
       "564    Jack Prestwidge    2000000  ALL-ROUNDER               NaN   \n",
       "565     Aditya Sarvate    2000000  ALL-ROUNDER               NaN   \n",
       "566      Sagar Solanki    2000000  ALL-ROUNDER               NaN   \n",
       "567  Prenelan Subrayen    2000000  ALL-ROUNDER               NaN   \n",
       "\n",
       "     Cost in $ (K) 2022 Squad 2023 Squad  \n",
       "563            NaN        NaN     Unsold  \n",
       "564            NaN        NaN     Unsold  \n",
       "565            NaN        NaN     Unsold  \n",
       "566            NaN        NaN     Unsold  \n",
       "567            NaN        NaN     Unsold  "
      ]
     },
     "execution_count": 75,
     "metadata": {},
     "output_type": "execute_result"
    }
   ],
   "source": [
    "#print the last 5 items of the data\n",
    "ipl.tail()\n"
   ]
  },
  {
   "cell_type": "code",
   "execution_count": 76,
   "id": "aa0fbffc",
   "metadata": {},
   "outputs": [
    {
     "data": {
      "text/plain": [
       "Player Name          object\n",
       "Base Price           object\n",
       "Type                 object\n",
       "Cost in Rs. (CR)    float64\n",
       "Cost in $ (K)       float64\n",
       "2022 Squad           object\n",
       "2023 Squad           object\n",
       "dtype: object"
      ]
     },
     "execution_count": 76,
     "metadata": {},
     "output_type": "execute_result"
    }
   ],
   "source": [
    "#data types of the elements in the data set\n",
    "ipl.dtypes"
   ]
  },
  {
   "cell_type": "code",
   "execution_count": 77,
   "id": "6605880f",
   "metadata": {},
   "outputs": [
    {
     "data": {
      "text/plain": [
       "Index(['Player Name', 'Base Price', 'Type', 'Cost in Rs. (CR)',\n",
       "       'Cost in $ (K)', '2022 Squad', '2023 Squad'],\n",
       "      dtype='object')"
      ]
     },
     "execution_count": 77,
     "metadata": {},
     "output_type": "execute_result"
    }
   ],
   "source": [
    "#print the elements in the column\n",
    "ipl.columns"
   ]
  },
  {
   "cell_type": "code",
   "execution_count": 78,
   "id": "7f27beb7",
   "metadata": {},
   "outputs": [
    {
     "data": {
      "text/html": [
       "<div>\n",
       "<style scoped>\n",
       "    .dataframe tbody tr th:only-of-type {\n",
       "        vertical-align: middle;\n",
       "    }\n",
       "\n",
       "    .dataframe tbody tr th {\n",
       "        vertical-align: top;\n",
       "    }\n",
       "\n",
       "    .dataframe thead th {\n",
       "        text-align: right;\n",
       "    }\n",
       "</style>\n",
       "<table border=\"1\" class=\"dataframe\">\n",
       "  <thead>\n",
       "    <tr style=\"text-align: right;\">\n",
       "      <th></th>\n",
       "      <th>Player Name</th>\n",
       "      <th>Base Price</th>\n",
       "      <th>Type</th>\n",
       "      <th>Cost in Rs. (CR)</th>\n",
       "      <th>Cost in $ (K)</th>\n",
       "      <th>2022 Squad</th>\n",
       "      <th>2023 Squad</th>\n",
       "    </tr>\n",
       "  </thead>\n",
       "  <tbody>\n",
       "    <tr>\n",
       "      <th>count</th>\n",
       "      <td>568</td>\n",
       "      <td>568</td>\n",
       "      <td>568</td>\n",
       "      <td>243.000000</td>\n",
       "      <td>243.000000</td>\n",
       "      <td>230</td>\n",
       "      <td>568</td>\n",
       "    </tr>\n",
       "    <tr>\n",
       "      <th>unique</th>\n",
       "      <td>565</td>\n",
       "      <td>10</td>\n",
       "      <td>4</td>\n",
       "      <td>NaN</td>\n",
       "      <td>NaN</td>\n",
       "      <td>10</td>\n",
       "      <td>11</td>\n",
       "    </tr>\n",
       "    <tr>\n",
       "      <th>top</th>\n",
       "      <td>Akash Singh</td>\n",
       "      <td>2000000</td>\n",
       "      <td>ALL-ROUNDER</td>\n",
       "      <td>NaN</td>\n",
       "      <td>NaN</td>\n",
       "      <td>MI</td>\n",
       "      <td>Unsold</td>\n",
       "    </tr>\n",
       "    <tr>\n",
       "      <th>freq</th>\n",
       "      <td>2</td>\n",
       "      <td>274</td>\n",
       "      <td>213</td>\n",
       "      <td>NaN</td>\n",
       "      <td>NaN</td>\n",
       "      <td>28</td>\n",
       "      <td>325</td>\n",
       "    </tr>\n",
       "    <tr>\n",
       "      <th>mean</th>\n",
       "      <td>NaN</td>\n",
       "      <td>NaN</td>\n",
       "      <td>NaN</td>\n",
       "      <td>0.687243</td>\n",
       "      <td>82.469136</td>\n",
       "      <td>NaN</td>\n",
       "      <td>NaN</td>\n",
       "    </tr>\n",
       "    <tr>\n",
       "      <th>std</th>\n",
       "      <td>NaN</td>\n",
       "      <td>NaN</td>\n",
       "      <td>NaN</td>\n",
       "      <td>2.511700</td>\n",
       "      <td>301.404032</td>\n",
       "      <td>NaN</td>\n",
       "      <td>NaN</td>\n",
       "    </tr>\n",
       "    <tr>\n",
       "      <th>min</th>\n",
       "      <td>NaN</td>\n",
       "      <td>NaN</td>\n",
       "      <td>NaN</td>\n",
       "      <td>0.000000</td>\n",
       "      <td>0.000000</td>\n",
       "      <td>NaN</td>\n",
       "      <td>NaN</td>\n",
       "    </tr>\n",
       "    <tr>\n",
       "      <th>25%</th>\n",
       "      <td>NaN</td>\n",
       "      <td>NaN</td>\n",
       "      <td>NaN</td>\n",
       "      <td>0.000000</td>\n",
       "      <td>0.000000</td>\n",
       "      <td>NaN</td>\n",
       "      <td>NaN</td>\n",
       "    </tr>\n",
       "    <tr>\n",
       "      <th>50%</th>\n",
       "      <td>NaN</td>\n",
       "      <td>NaN</td>\n",
       "      <td>NaN</td>\n",
       "      <td>0.000000</td>\n",
       "      <td>0.000000</td>\n",
       "      <td>NaN</td>\n",
       "      <td>NaN</td>\n",
       "    </tr>\n",
       "    <tr>\n",
       "      <th>75%</th>\n",
       "      <td>NaN</td>\n",
       "      <td>NaN</td>\n",
       "      <td>NaN</td>\n",
       "      <td>0.200000</td>\n",
       "      <td>24.000000</td>\n",
       "      <td>NaN</td>\n",
       "      <td>NaN</td>\n",
       "    </tr>\n",
       "    <tr>\n",
       "      <th>max</th>\n",
       "      <td>NaN</td>\n",
       "      <td>NaN</td>\n",
       "      <td>NaN</td>\n",
       "      <td>18.500000</td>\n",
       "      <td>2220.000000</td>\n",
       "      <td>NaN</td>\n",
       "      <td>NaN</td>\n",
       "    </tr>\n",
       "  </tbody>\n",
       "</table>\n",
       "</div>"
      ],
      "text/plain": [
       "        Player Name Base Price         Type  Cost in Rs. (CR)  Cost in $ (K)  \\\n",
       "count           568        568          568        243.000000     243.000000   \n",
       "unique          565         10            4               NaN            NaN   \n",
       "top     Akash Singh    2000000  ALL-ROUNDER               NaN            NaN   \n",
       "freq              2        274          213               NaN            NaN   \n",
       "mean            NaN        NaN          NaN          0.687243      82.469136   \n",
       "std             NaN        NaN          NaN          2.511700     301.404032   \n",
       "min             NaN        NaN          NaN          0.000000       0.000000   \n",
       "25%             NaN        NaN          NaN          0.000000       0.000000   \n",
       "50%             NaN        NaN          NaN          0.000000       0.000000   \n",
       "75%             NaN        NaN          NaN          0.200000      24.000000   \n",
       "max             NaN        NaN          NaN         18.500000    2220.000000   \n",
       "\n",
       "       2022 Squad 2023 Squad  \n",
       "count         230        568  \n",
       "unique         10         11  \n",
       "top            MI     Unsold  \n",
       "freq           28        325  \n",
       "mean          NaN        NaN  \n",
       "std           NaN        NaN  \n",
       "min           NaN        NaN  \n",
       "25%           NaN        NaN  \n",
       "50%           NaN        NaN  \n",
       "75%           NaN        NaN  \n",
       "max           NaN        NaN  "
      ]
     },
     "execution_count": 78,
     "metadata": {},
     "output_type": "execute_result"
    }
   ],
   "source": [
    "#calculate the data\n",
    "ipl.describe(include='all')"
   ]
  },
  {
   "cell_type": "code",
   "execution_count": 79,
   "id": "88136fbc",
   "metadata": {},
   "outputs": [
    {
     "name": "stdout",
     "output_type": "stream",
     "text": [
      "NO.OF ROWS 568\n",
      "NO.OF COLUMNS 7\n"
     ]
    }
   ],
   "source": [
    "print(\"NO.OF ROWS\",ipl.shape[0])\n",
    "print(\"NO.OF COLUMNS\",ipl.shape[1])"
   ]
  },
  {
   "cell_type": "code",
   "execution_count": 80,
   "id": "86677cb3",
   "metadata": {},
   "outputs": [
    {
     "name": "stdout",
     "output_type": "stream",
     "text": [
      "NO.OF Elements in the dataset 3976\n"
     ]
    }
   ],
   "source": [
    "print(\"NO.OF Elements in the dataset\",ipl.size)"
   ]
  },
  {
   "cell_type": "code",
   "execution_count": 81,
   "id": "7544003c",
   "metadata": {},
   "outputs": [
    {
     "data": {
      "text/plain": [
       "RangeIndex(start=0, stop=568, step=1)"
      ]
     },
     "execution_count": 81,
     "metadata": {},
     "output_type": "execute_result"
    }
   ],
   "source": [
    "ipl.index"
   ]
  },
  {
   "cell_type": "code",
   "execution_count": 82,
   "id": "deaf2492",
   "metadata": {},
   "outputs": [
    {
     "name": "stdout",
     "output_type": "stream",
     "text": [
      "Player Name\n",
      "['Shivam Mavi' 'Joshua Little' 'Kane Williamson' 'K.S. Bharat'\n",
      " 'Mohit Sharma' 'Odean Smith' 'Urvil Patel' 'Rahul Tewatia'\n",
      " 'Pradeep Sangwan' 'Rashid Khan' 'R. Sai Kishore' 'Yash Dayal'\n",
      " 'Noor Ahmad' 'Wriddhiman Saha' 'Vijay Shankar' 'Shubman Gill'\n",
      " 'Hardik Pandya' 'B. Sai Sudharsan' 'Alzarri Joseph' 'Abhinav Sadarangani'\n",
      " 'Darshan Nalkande' 'David Miller' 'Matthew Wade' 'Jayant Yadav'\n",
      " 'Mohammad Shami' 'Ben Stokes' 'Kyle Jamieson' 'Nishant Sindhu'\n",
      " 'Ajinkya Rahane' 'Bhagath Varma' 'Ajay Mandal' 'Shaik Rasheed'\n",
      " 'Ravindra Jadeja' 'Rajvardhan Hangargekar' 'Prashant Solanki'\n",
      " 'Ruturaj Gaikwad' 'Tushar Deshpande' 'Mukesh Choudhary'\n",
      " 'Subhranshu Senapati' 'Simarjeet Singh' 'Shivam Dube'\n",
      " 'Matheesha Pathirana' 'Devon Conway' 'Deepak Chahar' 'Ambati Rayudu'\n",
      " 'Dwaine Pretorius' 'Maheesh Theekshana' 'Moeen Ali' 'Mitchell Santner'\n",
      " 'MS Dhoni' 'Mukesh Kumar' 'Rilee Rossouw' 'Manish Pandey' 'Phil Salt'\n",
      " 'Ishant Sharma' 'Ripal Patel' 'Pravin Dubey' 'Rishabh Pant'\n",
      " 'Prithvi Shaw' 'Syed Khaleel Ahmed' 'Yash Dhull' 'Vicky Ostwal'\n",
      " 'Mustafizur Rahman' 'Sarfaraz Khan' 'Rovman Powell' 'Lalit Yadav'\n",
      " 'Axar Patel' 'Anrich Nortje' 'Aman Khan (T)' 'Chetan Sakariya'\n",
      " 'David Warner' 'Lungisani Ngidi' 'Kuldeep Yadav' 'Kamlesh Nagarkoti'\n",
      " 'Mitchell Marsh' 'Shakib Al Hasan' 'David Wiese' 'N. Jagadeesan'\n",
      " 'Vaibhav Arora' 'Litton Das' 'Mandeep Singh' 'Kulwant Khejroliya'\n",
      " 'Suyash Sharma' 'Sunil Narine' 'Shreyas Iyer' 'Tim Southee' 'Umesh Yadav'\n",
      " 'Varun Chakaravarthy' 'Shardul Thakur (T)' 'Venkatesh Iyer'\n",
      " 'Harshit Rana' 'Anukul Roy' 'Andre Russell' 'Lockie Ferguson (T)'\n",
      " 'Nitish Rana' 'Rahmanullah Gurbaz (T)' 'Rinku Singh' 'Sam Curran'\n",
      " 'Sikandar Raza' 'Harpreet Bhatia' 'Mohit Rathee' 'Vidwath Kaverappa'\n",
      " 'Shivam Singh' 'Liam Livingstone' 'Baltej Singh Dhanda' 'Atharva Taide'\n",
      " 'Bhanuka Rajapakse' 'Jitesh Sharma' 'Nathan Ellis' 'Jonny Bairstow'\n",
      " 'Kagiso Rabada' 'Harpreet Brar' 'Shahrukh Khan' 'Shikhar Dhawan'\n",
      " 'Rahul Chahar' 'Arshdeep Singh' 'Prabhsimran Singh' 'Raj Angad Bawa'\n",
      " 'Rishi Dhawan' 'Nicholas Pooran' 'Daniel Sams' 'Jaydev Unadkat'\n",
      " 'Naveen Ul Haq' 'Amit Mishra' 'Romario Shepherd' 'Yash Thakur'\n",
      " 'Swapnil Singh' 'Yudhvir Charak' 'Prerak Mankad' 'Mark Wood'\n",
      " 'Marcus Stoinis' 'Mayank Yadav' 'Mohsin Khan' 'Quinton De Kock'\n",
      " 'Manan Vohra' 'Ravi Bishnoi' 'Deepak Hooda' 'Ayush Badoni' 'Avesh Khan'\n",
      " 'K. Gowtham' 'Karan Sharma' 'Krunal Pandya' 'KL Rahul' 'Kyle Mayers'\n",
      " 'Cameron Green' 'Jhye Richardson' 'Piyush Chawla' 'Raghav Goyal'\n",
      " 'Shams Mulani' 'Nehal Wadhera' 'Vishnu Vinod' 'Duan Jansen'\n",
      " 'Ramandeep Singh' 'N. Tilak Varma' 'Mohd. Arshad Khan' 'Rohit Sharma'\n",
      " 'Suryakumar Yadav' 'Kumar Kartikeya Singh' 'Tristan Stubbs*' 'Tim David'\n",
      " 'Hrithik Shokeen' 'Arjun Tendulkar' 'Akash Madhwal' 'Dewald Brevis'\n",
      " 'Ishan Kishan' 'Jasprit Bumrah' 'Jason Behrendorff (T)' 'Jofra Archer'\n",
      " 'Will Jacks' 'Reece Topley' 'Rajan Kumar' 'Avinash Singh'\n",
      " 'Manoj Bhandage' 'Sonu Yadav' 'Himanshu Sharma' 'Rajat Patidar'\n",
      " 'Mahipal Lomror' 'Shahbaz Ahamad' 'Mohammed Siraj' 'Wanindu Hasaranga'\n",
      " 'Karn Sharma' 'Virat Kohli' 'Suyash Prabhudessai' 'Siddharth Kaul'\n",
      " 'Finn Allen' 'David Willey' 'Anuj Rawat' 'Akash Deep' 'Dinesh Karthik'\n",
      " 'Faf Du Plessis' 'Harshal Patel' 'Glenn Maxwell' 'Josh Hazlewood'\n",
      " 'Jason Holder' 'Adam Zampa' 'Joe Root' 'Donovan Ferreira' 'K.M. Asif'\n",
      " 'Kunal Rathore' 'Abdul P A' 'Akash Vashisht' 'Murugan Ashwin'\n",
      " 'Sanju Samson' 'Riyan Parag' 'R. Ashwin' 'Shimron Hetmyer' 'Trent Boult'\n",
      " 'Prasidh Krishna' 'Yuzvendra Chahal' 'Yashasvi Jaiswal' 'K.C Cariappa'\n",
      " 'Dhruv Jurel' 'Devdutt Padikkal' 'Jos Buttler' 'Kuldeep Sen'\n",
      " 'Navdeep Saini' 'Kuldip Yadav' 'Obed Mccoy' 'Harry Brook'\n",
      " 'Mayank Agarwal' 'Heinrich Klaasen' 'Vivrant Sharma' 'Adil Rashid'\n",
      " 'Mayank Dagar' 'Akeal Hosein' 'Mayank Markande' 'Upendra Singh Yadav'\n",
      " 'Nitish Kumar Reddy' 'Samarth Vyas' 'Anmolpreet Singh' 'Sanvir Singh'\n",
      " 'Marco Jansen' 'Rahul Tripathi' 'Umran Malik' 'Washington Sundar'\n",
      " 'Kartik Tyagi' 'T. Natarajan' 'Fazalhaq Farooqi' 'Abdul Samad'\n",
      " 'Abhishek Sharma' 'Aiden Markram' 'Bhuvneshwar Kumar' 'Glenn Phillips'\n",
      " 'Tom Banton' 'Kusal Mendis' 'Chris Jordan' 'Adam Milne' 'Mujeeb Rahman'\n",
      " 'Tabraiz Shamsi' 'Shubham Khajuria' 'Rohan Kunnummal' 'Chethan L.R.'\n",
      " 'Himmat Singh' 'Corbin Bosch' 'Priyam Garg' 'Saurabh Kumar'\n",
      " 'Shashank Singh' 'Mohammed Azharuddeen' 'Dinesh Bana'\n",
      " 'Abhimanyu Easwaran' 'Sumit Kumar' 'Lance Morris' 'Mujtaba Yousuf'\n",
      " 'Chintal Gandhi' 'Shreyas Gopal' 'S Midhun' 'Izharulhuq Naveed'\n",
      " 'Travis Head' 'Dawid Malan' 'Sherfane Rutherford' 'Paul Stirling'\n",
      " 'Rassie Van Der Dussen' 'Daryl Mitchell' 'Mohammad Nabi' 'Jimmy Neesham'\n",
      " 'Wayne Parnell' 'Dasun Shanaka' 'Taskin Ahmed' 'Dushmanta Chameera'\n",
      " 'Riley Meredith' 'Blessing Muzarabani' 'Sandeep Sharma' 'Johnson Charles'\n",
      " 'Andre Fletcher' 'Shai Hope' 'Tom Latham' 'Joshua Philippe'\n",
      " 'Lorcan Tucker' 'Shahbaz Nadeem' 'Ish Sodhi' 'Sachin Baby'\n",
      " 'Ashwin Hebbar' 'Pukhraj Mann' 'Akshat Raghuwanshi' 'Himanshu Rana'\n",
      " 'Shoun Roger' 'Virat Singh' 'Will Smeed' 'Apoorv Wankhade'\n",
      " 'Gerald Coetzee' 'Evan Jones' 'Abid Mushtaq' 'Suryansh Shedge'\n",
      " 'Jagadeesha Suchith' 'Ricky Bhui' 'Baba Indrajith' 'Sheldon Jackson'\n",
      " 'Aryan Juyal' 'Kirant Shinde' 'Luvnith Sisodia' 'Vishnu Solanki'\n",
      " 'Aniket Choudhary' 'Ravi Kumar' 'Sushant Mishra' 'Arzan Nagwaswalla'\n",
      " 'Ishan Porel' 'Akash Singh' 'Basil Thampi' 'Paul Van Meekeren'\n",
      " 'Vyshak Vijay Kumar' 'S.Ajith Ram' 'Satyajeet Bachhav' 'Tejas Baroka'\n",
      " 'Yuvraj Chudasama' 'Peter Hatzoglou' 'Karthik Meiyappan' 'Shivam Sharma'\n",
      " 'Reeza Hendricks' 'Christiaan Jonker' 'Brandon King' 'Chris Lynn'\n",
      " 'Karun Nair' 'Pathum Nissaanka' 'Jason Roy' 'Gurkeerat Singh'\n",
      " 'Harry Tector' 'Najibullah Zadran' 'Sean Abbott' 'Qais Ahmad'\n",
      " 'Charith Asalanka' 'Michael Bracewell' 'Dominic Drakes' 'George Garton'\n",
      " 'Chamika Karunaratne' 'Jamie Overton' 'Sandeep Warrier' 'Ben Dwarshuis'\n",
      " 'Richard Gleeson' 'Lahiru Kumara' 'Dilshan Madushanka' 'Billy Stanlake'\n",
      " 'Andrew Tye' 'Luke Wood' 'Priyansh Arya' 'Matthew Breetzke'\n",
      " 'Shivam Chauhan' 'Rahul Gahlaut' 'Sudip Gharami' 'C. Hari Nishaanth'\n",
      " 'Amandeep Khare' 'Bhanu Pania' 'Ekant Sen' 'Himanshu Bisht'\n",
      " 'Mickil Jaiswal' 'G.Aniketh Reddy' 'Atit Sheth' 'M. Siddharth'\n",
      " 'Tanay Thyagarajann' 'Sumeet Verma' 'Sanjay Yadav' 'Ajitesh Guruswamy'\n",
      " 'Yash Kothari' 'Suresh Kumar' 'Kumar Kushagra' 'Anmol Malhotra'\n",
      " 'Robin Minz' 'Agniv Pan' 'Priyesh Patel' 'Mitesh Patel' 'Abishek Porel'\n",
      " 'Bharat Sharma' 'Vivek Singh' 'Abhijeet Tomar' 'Basit Bashir'\n",
      " 'Nandre Burger' 'Rasikh Dar' 'Sakib Hussain' 'Waseem Khanday'\n",
      " 'Ravi Kiran Majeti' 'Lukman Hussain Meriwala' 'Anuj Raj'\n",
      " 'Ankit Singh Rajpoot' 'Prince Yadav' 'Prithviraj Yarra' 'Mushtaq Beg'\n",
      " 'Rocky Bhasker' 'Sanjith Devaraj' 'Allah Mohammad' 'Lalit Mohan'\n",
      " 'Bhuwan Rohilla' 'Aman Sharma' 'Manav Suthar' 'Tom Curran'\n",
      " 'Moises Henriques' 'Afif Hossain' 'Scott Kuggeleijn' 'Sisanda Magala'\n",
      " 'Craig Overton' 'Darcy Short' 'Dhananjaya Silva' 'Dunith Wellalage'\n",
      " 'Varun Aaron' 'Sheldon Cottrel' 'Nathan Coulter-Nile' 'Daryn Dupavillon'\n",
      " 'Matt Henry' 'Dhawal Kulkarni' 'Tymal Mills' 'David Payne'\n",
      " 'Barinder Sran' 'Glenton Stuurman' 'Anirudh Balachander'\n",
      " 'Gourav Choudhary' 'Saurav Chuahan' 'Kumar Deobrat' 'Chirag Gandhi'\n",
      " 'Arman Jaffer' 'Madhav Kaushik' 'Priyank Panchal' 'Ayush Pandey'\n",
      " 'Rohan Patil' 'Sanjay Ramaswamy' 'Siddharth Yadav' 'Rehan Ahmed'\n",
      " 'Prayas Barman' 'Rahul Buddhi' 'Vaisakh Chandran' 'Writtick Chatterjee'\n",
      " 'Prashant Chopra' 'Harsh Dubey' 'Tanush Kotian' 'Ninad Rathva' 'B. Surya'\n",
      " 'Jordan Thompson' 'Shivank Vashisth' 'Ankush Bains'\n",
      " 'Christopher Benjamin' 'Connor Esterhuizen' 'Mohd Arslan Khan'\n",
      " 'Mamidi Krishna' 'Fazil Makaya' 'Akshdeep Nath' 'Deepak Punia'\n",
      " 'Ateev Saini' 'Bipin Saurabh' 'B.R. Sharath' 'Yashovardhan Singh'\n",
      " 'Lakshay Thareja' 'Mohit Avasthi' 'Ottneil Baartman' 'Gurnoor Singh Brar'\n",
      " 'Shahrukh Dar' 'Thomas Helm' 'Pankaj Jaswal' 'Venkatesh Muralidhara'\n",
      " 'Geet Puri' 'E. Sanketh' 'Ajay Sarkar' 'Ashok Sharma' 'Kanwar Singh'\n",
      " 'Fabian Allen' 'Carlos Brathwaite' 'Roston Chase' 'Rahkeem Cornwall'\n",
      " 'Karim Janat' 'Keshav Maharaj' 'Pawan Negi' 'Keemo Paul'\n",
      " 'Shivam Chaudhary' 'Ashwin Das' 'James Fuller' 'Chirag Jani'\n",
      " 'Akshay Karnewar' 'Bhagmender Lather' 'Lone Muzaffar' 'Pulkit Narang'\n",
      " 'Rohit Rayudu' 'Sameer Rizvi' 'Tunish Sawkar' 'Auqib Dar'\n",
      " 'Mukhtar Hussain' 'Ashwani Kumar' 'Hemant Kumar' 'Nathan McAndrew'\n",
      " 'Rajesh Mohanty' 'Ravi Sharma' 'Vikash Singh' 'Ruben Trumpelmann'\n",
      " 'Koushik Vasuki' 'Vasu Vats' 'Shubham Agrawal' 'Baba Aparajith'\n",
      " 'Anshul Kamboj' 'Azim Kazi' 'Dev Lakra' 'Jitender Pal'\n",
      " 'Ritwik Roy Chowdhury' 'Utkarsh Singh' 'Shubham Singh' 'Avneesh Sudha'\n",
      " 'Asad Jamil Ahmed' 'Bandaru Ayyappa' 'Aashish Bhatt' 'McKenny Clarke'\n",
      " 'Shubham Kapse' 'Gourav Koul' 'Raunak Kumar' 'Trilok Nag'\n",
      " 'Atal Bihari Rai' 'Ramon Simmonds' 'Rajeev Singh' 'Mohd. Wasim'\n",
      " 'Atharva Ankolekar' 'Khizar Dafedar' 'Naman Dhir' 'Sahil Dhiwan'\n",
      " 'Sampark Gupta' 'Jordan Hermann' 'Hayden Kerr' 'Salman Khan'\n",
      " 'Sairaj Patil' 'Divyaansh Saxena' 'Purnank Tyagi' 'Deepraj Gaonkar'\n",
      " 'Shubham Garhwal' 'Benny Howell' 'Deepesh Nailwal' 'Arjun Rapria'\n",
      " 'Shashwat Rawat' 'Sumit Ruikar' 'Rajandeep Singh' 'Anunay Singh'\n",
      " 'Digvesh Singh' 'Pranshu Vijayran' 'Prerit Dutta' 'Ramakrishna Ghosh'\n",
      " 'Shubhang Hegde' 'Shamshuzama Kazi' 'Ayaz Khan' 'Amit Pachhara'\n",
      " 'Akul Pandove' 'Garv Sangwan' 'Shubham Sharma' 'Amit Yadav' 'Amit Ali'\n",
      " 'Rishabh Chauhan' 'Matthew Forde' 'Sammar Gajjar' 'Rajneesh Gurbani'\n",
      " 'Divyansh Joshi' 'Dhruv Patel' 'Jack Prestwidge' 'Aditya Sarvate'\n",
      " 'Sagar Solanki' 'Prenelan Subrayen']\n",
      "************************************************************************************************************************\n",
      "Base Price\n",
      "['4000000' '5000000' '20000000' '2000000' 'Retained' '10000000' '1500000'\n",
      " '7500000' '3000000' '15000000']\n",
      "************************************************************************************************************************\n",
      "Type\n",
      "['BOWLER' 'BATSMAN' 'WICKETKEEPER' 'ALL-ROUNDER']\n",
      "************************************************************************************************************************\n",
      "2022 Squad\n",
      "['KKR' nan 'SRH' 'DC' 'PBKS' 'GT' 'CSK' 'LSG' 'MI' 'RCB' 'RR']\n",
      "************************************************************************************************************************\n",
      "2023 Squad\n",
      "['GT' 'CSK' 'DC' 'KKR' 'PBKS' 'LSG' 'MI' 'RCB' 'RR' 'SRH' 'Unsold']\n",
      "************************************************************************************************************************\n"
     ]
    }
   ],
   "source": [
    "for col in ipl.describe(include=\"object\").columns :\n",
    "    print(col)\n",
    "    print(ipl[col].unique())\n",
    "    print(\"***\"*40)"
   ]
  },
  {
   "cell_type": "code",
   "execution_count": 83,
   "id": "002ded1f",
   "metadata": {},
   "outputs": [
    {
     "data": {
      "text/html": [
       "<div>\n",
       "<style scoped>\n",
       "    .dataframe tbody tr th:only-of-type {\n",
       "        vertical-align: middle;\n",
       "    }\n",
       "\n",
       "    .dataframe tbody tr th {\n",
       "        vertical-align: top;\n",
       "    }\n",
       "\n",
       "    .dataframe thead th {\n",
       "        text-align: right;\n",
       "    }\n",
       "</style>\n",
       "<table border=\"1\" class=\"dataframe\">\n",
       "  <thead>\n",
       "    <tr style=\"text-align: right;\">\n",
       "      <th></th>\n",
       "      <th>Player Name</th>\n",
       "      <th>Base Price</th>\n",
       "      <th>Type</th>\n",
       "      <th>2022 Squad</th>\n",
       "      <th>2023 Squad</th>\n",
       "    </tr>\n",
       "  </thead>\n",
       "  <tbody>\n",
       "    <tr>\n",
       "      <th>count</th>\n",
       "      <td>568</td>\n",
       "      <td>568</td>\n",
       "      <td>568</td>\n",
       "      <td>230</td>\n",
       "      <td>568</td>\n",
       "    </tr>\n",
       "    <tr>\n",
       "      <th>unique</th>\n",
       "      <td>565</td>\n",
       "      <td>10</td>\n",
       "      <td>4</td>\n",
       "      <td>10</td>\n",
       "      <td>11</td>\n",
       "    </tr>\n",
       "    <tr>\n",
       "      <th>top</th>\n",
       "      <td>Akash Singh</td>\n",
       "      <td>2000000</td>\n",
       "      <td>ALL-ROUNDER</td>\n",
       "      <td>MI</td>\n",
       "      <td>Unsold</td>\n",
       "    </tr>\n",
       "    <tr>\n",
       "      <th>freq</th>\n",
       "      <td>2</td>\n",
       "      <td>274</td>\n",
       "      <td>213</td>\n",
       "      <td>28</td>\n",
       "      <td>325</td>\n",
       "    </tr>\n",
       "  </tbody>\n",
       "</table>\n",
       "</div>"
      ],
      "text/plain": [
       "        Player Name Base Price         Type 2022 Squad 2023 Squad\n",
       "count           568        568          568        230        568\n",
       "unique          565         10            4         10         11\n",
       "top     Akash Singh    2000000  ALL-ROUNDER         MI     Unsold\n",
       "freq              2        274          213         28        325"
      ]
     },
     "execution_count": 83,
     "metadata": {},
     "output_type": "execute_result"
    }
   ],
   "source": [
    "ipl.describe(include='object')"
   ]
  },
  {
   "cell_type": "code",
   "execution_count": 84,
   "id": "71060b98",
   "metadata": {},
   "outputs": [
    {
     "data": {
      "text/plain": [
       "Player Name           0\n",
       "Base Price            0\n",
       "Type                  0\n",
       "Cost in Rs. (CR)    325\n",
       "Cost in $ (K)       325\n",
       "2022 Squad          338\n",
       "2023 Squad            0\n",
       "dtype: int64"
      ]
     },
     "execution_count": 84,
     "metadata": {},
     "output_type": "execute_result"
    }
   ],
   "source": [
    "# checking null values \n",
    "ipl.isnull().sum()"
   ]
  },
  {
   "cell_type": "code",
   "execution_count": 85,
   "id": "26239b27",
   "metadata": {},
   "outputs": [
    {
     "data": {
      "text/plain": [
       "array([[<AxesSubplot:title={'center':'Cost in Rs. (CR)'}>,\n",
       "        <AxesSubplot:title={'center':'Cost in $ (K)'}>]], dtype=object)"
      ]
     },
     "execution_count": 85,
     "metadata": {},
     "output_type": "execute_result"
    },
    {
     "data": {
      "image/png": "[encoded data removed]",
      "text/plain": [
       "<Figure size 2000x3000 with 2 Axes>"
      ]
     },
     "metadata": {},
     "output_type": "display_data"
    }
   ],
   "source": [
    "#see all the numerical data in histogram\n",
    "ipl.hist(figsize=(20,30))"
   ]
  },
  {
   "cell_type": "code",
   "execution_count": 86,
   "id": "eb511b80",
   "metadata": {},
   "outputs": [
    {
     "data": {
      "image/png": "[encoded data removed]",
      "text/plain": [
       "<Figure size 640x480 with 1 Axes>"
      ]
     },
     "metadata": {},
     "output_type": "display_data"
    }
   ],
   "source": [
    "sns.barplot(x=\"Player Name\",y=\"Cost in Rs. (CR)\",data=ipl[:5])\n",
    "plt.xlabel(\"Player Name\")\n",
    "plt.ylabel(\"Prcie Cr\")\n",
    "plt.title(\"Top five highest paid players of 2023\",bbox={\"facecolor\":\"black\"},color=\"white\")\n",
    "plt.show()"
   ]
  },
  {
   "cell_type": "code",
   "execution_count": 87,
   "id": "b425ef91",
   "metadata": {},
   "outputs": [
    {
     "data": {
      "text/plain": [
       "2023 Squad\n",
       "Unsold    325\n",
       "CSK        25\n",
       "DC         25\n",
       "GT         25\n",
       "LSG        25\n",
       "RCB        25\n",
       "RR         25\n",
       "SRH        25\n",
       "MI         24\n",
       "KKR        22\n",
       "PBKS       22\n",
       "Name: Player Name, dtype: int64"
      ]
     },
     "execution_count": 87,
     "metadata": {},
     "output_type": "execute_result"
    }
   ],
   "source": [
    "#number of players in each team\n",
    "ipl=ipl.groupby(\"2023 Squad\")[\"Player Name\"].count().sort_values(ascending=False)\n",
    "ipl"
   ]
  },
  {
   "cell_type": "code",
   "execution_count": 88,
   "id": "cfeb25d6",
   "metadata": {},
   "outputs": [
    {
     "data": {
      "image/png": "[encoded data removed]",
      "text/plain": [
       "<Figure size 640x480 with 1 Axes>"
      ]
     },
     "metadata": {},
     "output_type": "display_data"
    }
   ],
   "source": [
    "plt.pie(ipl,labels=ipl.index,explode=[0.1,0.2,0.2,0.2,0.2,0.2,0.2,0.2,0.2,0.2,0.2],autopct=\"%0.01f%%\",radius=1.5)\n",
    "#plt.title(\"percent of players in each team\",bbox={\"facecolor\":\"black\"},color=\"white\")\n",
    "plt.tight_layout()\n",
    "plt.show()"
   ]
  },
  {
   "cell_type": "code",
   "execution_count": 96,
   "id": "10798ddf",
   "metadata": {
    "scrolled": true
   },
   "outputs": [
    {
     "data": {
      "image/png": "[encoded data removed]",
      "text/plain": [
       "<Figure size 800x500 with 1 Axes>"
      ]
     },
     "metadata": {},
     "output_type": "display_data"
    }
   ],
   "source": [
    "plt.figure(figsize=(8,5))\n",
    "plt.barh(ipl.index,ipl.values)\n",
    "plt.xlabel(\"Price (in Cr)\",color=\"blue\",size=20)\n",
    "plt.ylabel(\"Team\",color=\"blue\",size=20)\n",
    "plt.title(\"Team 2023 auction cost\",bbox={\"facecolor\":\"black\"},color=\"white\")\n",
    "plt.show()"
   ]
  },
  {
   "cell_type": "code",
   "execution_count": null,
   "id": "5b6c8e2e",
   "metadata": {},
   "outputs": [],
   "source": []
  },
  {
   "cell_type": "code",
   "execution_count": null,
   "id": "ff815f75",
   "metadata": {},
   "outputs": [],
   "source": []
  },
  {
   "cell_type": "code",
   "execution_count": 93,
   "id": "70b5d87a",
   "metadata": {},
   "outputs": [
    {
     "data": {
      "text/plain": [
       "0"
      ]
     },
     "execution_count": 93,
     "metadata": {},
     "output_type": "execute_result"
    }
   ],
   "source": [
    "ipl.isnull().sum()"
   ]
  },
  {
   "cell_type": "code",
   "execution_count": null,
   "id": "1e730ad5",
   "metadata": {},
   "outputs": [],
   "source": []
  }
 ],
 "metadata": {
  "kernelspec": {
   "display_name": "Python 3 (ipykernel)",
   "language": "python",
   "name": "python3"
  },
  "language_info": {
   "codemirror_mode": {
    "name": "ipython",
    "version": 3
   },
   "file_extension": ".py",
   "mimetype": "text/x-python",
   "name": "python",
   "nbconvert_exporter": "python",
   "pygments_lexer": "ipython3",
   "version": "3.9.13"
  }
 },
 "nbformat": 4,
 "nbformat_minor": 5
}
